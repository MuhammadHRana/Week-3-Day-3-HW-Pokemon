{
 "cells": [
  {
   "cell_type": "markdown",
   "metadata": {
    "id": "fK2SjXgoq_Tp"
   },
   "source": [
    "Take a look at PokeAPI: <a href=\"https://pokeapi.co/\">https://pokeapi.co/</a>.\n",
    "\n",
    "On this website you will see an API simulator. Trying any combination of correct possible server requests should yield you a successful result in the scrollable area. In this scrollable area is an exact server response you will get if you sent a response to it.\n",
    "\n",
    "Click on the `Documentation` tab, then click on v2. On the next page you'll see a bunch of words that seemingly make no sense. Just like with any API, there is documentation showing you how to use it. API documentation, by nature, is very wordy, overwhelming and almost never straightforward. You will find very few APIs that have simple documentation. Once you start to become a mid-senior level engineer, the little details in documentation will make all the difference in the quality of your results. Most people find API documentation difficult to navigate at first. Don't worry, it's normal.\n",
    "\n",
    "That being said, familiarize yourself with everything in the documentation and try to skim as much as possible to get a feel for where everything is before proceeding. "
   ]
  },
  {
   "cell_type": "markdown",
   "metadata": {
    "id": "MzLYqqcXq_Ty"
   },
   "source": [
    "<strong>`Objective`</strong>: There are several main Pokemon class types: Fire, Water, Grass, Rock, Electric. Your application will use PokeAPI to build your own API program. Compile a list of 30 total Pokemon that identify as the aforementioned class types. Each category will hold a list of Pokemon and their personal attributes and some statistics as follows. Make this program an object-oriented program:\n",
    "\n",
    "**Note** How you compile the list of Pokemon is entirely up to you. "
   ]
  },
  {
   "cell_type": "code",
   "execution_count": 5,
   "metadata": {},
   "outputs": [],
   "source": [
    "import requests\n",
    "class Pokemon:\n",
    "    def __init__(self, poke_num, poke_name, poke_types):\n",
    "        self.num = poke_num\n",
    "        self.name = poke_name\n",
    "        self.types = poke_types\n",
    "        \n",
    "    def __repr__(self):\n",
    "        return f'<Pokemon: #{self.num}, Name: {self.name}, Type: {self.types}>'\n",
    "\n",
    "\n",
    "\n",
    "class Program:\n",
    "    def __init__(self, poke_type1, poke_type2, poke_type3):\n",
    "        self.type1 = poke_type1\n",
    "        self.type2 = poke_type2\n",
    "        self.type3 = poke_type3\n",
    "\n",
    "        self.pokemon = []\n",
    "        \n",
    "        api_link1 = f'https://pokeapi.co/api/v2/type/{self.type1}'\n",
    "        self.data1 = requests.get(api_link1).json()['pokemon']\n",
    "        \n",
    "        count = 0\n",
    "        if count <= 10:\n",
    "            for selection in self.data1:\n",
    "                p = Pokemon(\n",
    "                    poke_num= count +1,\n",
    "                    poke_name=selection['pokemon']['name'],\n",
    "                    poke_types=poke_type1,\n",
    "                )\n",
    "                self.pokemon.append(p)\n",
    "                count += 1\n",
    "                if count == 10:\n",
    "                    break\n",
    "        \n",
    "        api_link2 = f'https://pokeapi.co/api/v2/type/{self.type2}'\n",
    "        self.data2 = requests.get(api_link2).json()['pokemon']\n",
    "        \n",
    "        count = 0\n",
    "        if count <= 10:\n",
    "            for selection in self.data2:\n",
    "                p = Pokemon(\n",
    "                    poke_num= count +1,\n",
    "                    poke_name=selection['pokemon']['name'],\n",
    "                    poke_types=poke_type2,\n",
    "                )\n",
    "                self.pokemon.append(p)\n",
    "                count += 1\n",
    "                if count == 10:\n",
    "                    break\n",
    "            \n",
    "        api_link3 = f'https://pokeapi.co/api/v2/type/{self.type3}'\n",
    "        self.data3 = requests.get(api_link3).json()['pokemon']\n",
    "        \n",
    "        count = 0\n",
    "        if count <= 10:\n",
    "            for selection in self.data3:\n",
    "                p = Pokemon(\n",
    "                    poke_num= count +1,\n",
    "                    poke_name=selection['pokemon']['name'],\n",
    "                    poke_types=poke_type3,\n",
    "                )\n",
    "                self.pokemon.append(p)\n",
    "                count += 1\n",
    "                if count == 10:\n",
    "                    break\n",
    "            \n",
    "    @classmethod\n",
    "    def run(cls):\n",
    "        print(\"Who's that pokemon?\")\n",
    "        poke_type = input('What pokemon type are you interested in? ')\n",
    "        \n",
    "        return cls(poke_type)"
   ]
  },
  {
   "cell_type": "code",
   "execution_count": 6,
   "metadata": {},
   "outputs": [],
   "source": [
    "three_type = Program('fire', 'water', 'dragon')"
   ]
  },
  {
   "cell_type": "code",
   "execution_count": 8,
   "metadata": {},
   "outputs": [
    {
     "data": {
      "text/plain": [
       "[<Pokemon: #1, Name: charmander, Type: fire>,\n",
       " <Pokemon: #2, Name: charmeleon, Type: fire>,\n",
       " <Pokemon: #3, Name: charizard, Type: fire>,\n",
       " <Pokemon: #4, Name: vulpix, Type: fire>,\n",
       " <Pokemon: #5, Name: ninetales, Type: fire>,\n",
       " <Pokemon: #6, Name: growlithe, Type: fire>,\n",
       " <Pokemon: #7, Name: arcanine, Type: fire>,\n",
       " <Pokemon: #8, Name: ponyta, Type: fire>,\n",
       " <Pokemon: #9, Name: rapidash, Type: fire>,\n",
       " <Pokemon: #10, Name: magmar, Type: fire>,\n",
       " <Pokemon: #1, Name: squirtle, Type: water>,\n",
       " <Pokemon: #2, Name: wartortle, Type: water>,\n",
       " <Pokemon: #3, Name: blastoise, Type: water>,\n",
       " <Pokemon: #4, Name: psyduck, Type: water>,\n",
       " <Pokemon: #5, Name: golduck, Type: water>,\n",
       " <Pokemon: #6, Name: poliwag, Type: water>,\n",
       " <Pokemon: #7, Name: poliwhirl, Type: water>,\n",
       " <Pokemon: #8, Name: poliwrath, Type: water>,\n",
       " <Pokemon: #9, Name: tentacool, Type: water>,\n",
       " <Pokemon: #10, Name: tentacruel, Type: water>,\n",
       " <Pokemon: #1, Name: dratini, Type: dragon>,\n",
       " <Pokemon: #2, Name: dragonair, Type: dragon>,\n",
       " <Pokemon: #3, Name: dragonite, Type: dragon>,\n",
       " <Pokemon: #4, Name: kingdra, Type: dragon>,\n",
       " <Pokemon: #5, Name: vibrava, Type: dragon>,\n",
       " <Pokemon: #6, Name: flygon, Type: dragon>,\n",
       " <Pokemon: #7, Name: altaria, Type: dragon>,\n",
       " <Pokemon: #8, Name: bagon, Type: dragon>,\n",
       " <Pokemon: #9, Name: shelgon, Type: dragon>,\n",
       " <Pokemon: #10, Name: salamence, Type: dragon>]"
      ]
     },
     "execution_count": 8,
     "metadata": {},
     "output_type": "execute_result"
    }
   ],
   "source": [
    "three_type.pokemon"
   ]
  },
  {
   "cell_type": "code",
   "execution_count": null,
   "metadata": {},
   "outputs": [],
   "source": []
  }
 ],
 "metadata": {
  "colab": {
   "name": "Pokemon Coding Challenge.ipynb",
   "provenance": []
  },
  "kernelspec": {
   "display_name": "Python 3 (ipykernel)",
   "language": "python",
   "name": "python3"
  },
  "language_info": {
   "codemirror_mode": {
    "name": "ipython",
    "version": 3
   },
   "file_extension": ".py",
   "mimetype": "text/x-python",
   "name": "python",
   "nbconvert_exporter": "python",
   "pygments_lexer": "ipython3",
   "version": "3.9.7"
  }
 },
 "nbformat": 4,
 "nbformat_minor": 1
}
