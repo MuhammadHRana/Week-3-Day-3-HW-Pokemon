{
 "cells": [
  {
   "cell_type": "markdown",
   "metadata": {
    "id": "fK2SjXgoq_Tp"
   },
   "source": [
    "Take a look at PokeAPI: <a href=\"https://pokeapi.co/\">https://pokeapi.co/</a>.\n",
    "\n",
    "On this website you will see an API simulator. Trying any combination of correct possible server requests should yield you a successful result in the scrollable area. In this scrollable area is an exact server response you will get if you sent a response to it.\n",
    "\n",
    "Click on the `Documentation` tab, then click on v2. On the next page you'll see a bunch of words that seemingly make no sense. Just like with any API, there is documentation showing you how to use it. API documentation, by nature, is very wordy, overwhelming and almost never straightforward. You will find very few APIs that have simple documentation. Once you start to become a mid-senior level engineer, the little details in documentation will make all the difference in the quality of your results. Most people find API documentation difficult to navigate at first. Don't worry, it's normal.\n",
    "\n",
    "That being said, familiarize yourself with everything in the documentation and try to skim as much as possible to get a feel for where everything is before proceeding. "
   ]
  },
  {
   "cell_type": "markdown",
   "metadata": {
    "id": "MzLYqqcXq_Ty"
   },
   "source": [
    "<strong>`Objective`</strong>: There are several main Pokemon class types: Fire, Water, Grass, Rock, Electric. Your application will use PokeAPI to build your own API program. Compile a list of 30 total Pokemon that identify as the aforementioned class types. Each category will hold a list of Pokemon and their personal attributes and some statistics as follows. Make this program an object-oriented program:\n",
    "\n",
    "**Note** How you compile the list of Pokemon is entirely up to you. "
   ]
  },
  {
   "cell_type": "code",
   "execution_count": 1,
   "metadata": {},
   "outputs": [],
   "source": [
    "import requests\n",
    "class Pokemon:\n",
    "    def __init__(self, poke_num, poke_name, poke_types):\n",
    "        self.num = poke_num\n",
    "        self.name = poke_name\n",
    "        self.types = poke_types\n",
    "        \n",
    "    def __repr__(self):\n",
    "        return f'<Pokemon: {self.num}, {self.name}, {self.types}>'\n",
    "\n",
    "\n",
    "\n",
    "class Program:\n",
    "    def __init__(self, poke_type):\n",
    "        self.type = poke_type\n",
    "\n",
    "        api_link = f'https://pokeapi.co/api/v2/type/{poke_type}'\n",
    "        self.data = requests.get(api_link).json()['pokemon']\n",
    "        self.pokemon = []\n",
    "        b = 0\n",
    "        for selection in self.data:\n",
    "            p = Pokemon(\n",
    "                poke_num= b,\n",
    "                poke_name=selection['pokemon']['name'],\n",
    "                poke_types=poke_type,\n",
    "            )\n",
    "            self.pokemon.append(p)\n",
    "            b += 1\n",
    "            if b == 10:\n",
    "                return\n",
    "            \n",
    "    @classmethod\n",
    "    def run(cls):\n",
    "        print(\"Who's that pokemon?\")\n",
    "        poke_type = input('What pokemon type are you interested in? ')\n",
    "        \n",
    "        return cls(poke_type)"
   ]
  },
  {
   "cell_type": "code",
   "execution_count": 4,
   "metadata": {},
   "outputs": [],
   "source": [
    "fire_type = Program('fire')\n",
    "water_type = Program('water')\n",
    "dragon_type = Program('dragon')"
   ]
  },
  {
   "cell_type": "code",
   "execution_count": 10,
   "metadata": {},
   "outputs": [
    {
     "name": "stdout",
     "output_type": "stream",
     "text": [
      "[<Pokemon: 0, charmander, fire>, <Pokemon: 1, charmeleon, fire>, <Pokemon: 2, charizard, fire>, <Pokemon: 3, vulpix, fire>, <Pokemon: 4, ninetales, fire>, <Pokemon: 5, growlithe, fire>, <Pokemon: 6, arcanine, fire>, <Pokemon: 7, ponyta, fire>, <Pokemon: 8, rapidash, fire>, <Pokemon: 9, magmar, fire>]\n",
      "[<Pokemon: 0, squirtle, water>, <Pokemon: 1, wartortle, water>, <Pokemon: 2, blastoise, water>, <Pokemon: 3, psyduck, water>, <Pokemon: 4, golduck, water>, <Pokemon: 5, poliwag, water>, <Pokemon: 6, poliwhirl, water>, <Pokemon: 7, poliwrath, water>, <Pokemon: 8, tentacool, water>, <Pokemon: 9, tentacruel, water>]\n",
      "[<Pokemon: 0, dratini, dragon>, <Pokemon: 1, dragonair, dragon>, <Pokemon: 2, dragonite, dragon>, <Pokemon: 3, kingdra, dragon>, <Pokemon: 4, vibrava, dragon>, <Pokemon: 5, flygon, dragon>, <Pokemon: 6, altaria, dragon>, <Pokemon: 7, bagon, dragon>, <Pokemon: 8, shelgon, dragon>, <Pokemon: 9, salamence, dragon>]\n"
     ]
    }
   ],
   "source": [
    "print(list(fire_type.pokemon)) \n",
    "\n",
    "print(list(water_type.pokemon))\n",
    "\n",
    "print(list(dragon_type.pokemon))"
   ]
  }
 ],
 "metadata": {
  "colab": {
   "name": "Pokemon Coding Challenge.ipynb",
   "provenance": []
  },
  "kernelspec": {
   "display_name": "Python 3 (ipykernel)",
   "language": "python",
   "name": "python3"
  },
  "language_info": {
   "codemirror_mode": {
    "name": "ipython",
    "version": 3
   },
   "file_extension": ".py",
   "mimetype": "text/x-python",
   "name": "python",
   "nbconvert_exporter": "python",
   "pygments_lexer": "ipython3",
   "version": "3.9.7"
  }
 },
 "nbformat": 4,
 "nbformat_minor": 1
}
